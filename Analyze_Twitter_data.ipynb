{
 "cells": [
  {
   "cell_type": "markdown",
   "metadata": {},
   "source": [
    "## Reading and creating new table in postgres"
   ]
  },
  {
   "cell_type": "code",
   "execution_count": 1,
   "metadata": {},
   "outputs": [],
   "source": [
    "#!pip install sqlalchemy\n",
    "from sqlalchemy import *\n",
    "from sqlalchemy.engine.url import URL\n",
    "import pandas as pd"
   ]
  },
  {
   "cell_type": "markdown",
   "metadata": {},
   "source": [
    "### Adding the parameters to connect to database, these are similar to previous notebook."
   ]
  },
  {
   "cell_type": "code",
   "execution_count": 2,
   "metadata": {},
   "outputs": [],
   "source": [
    "DATABASE = {\n",
    "    'drivername': 'postgres',\n",
    "    'host': 'localhost',\n",
    "    'port': '5432',\n",
    "    'username': 'twitter',\n",
    "    'password': 'twitter',\n",
    "    'database': 'twitter'\n",
    "}"
   ]
  },
  {
   "cell_type": "markdown",
   "metadata": {},
   "source": [
    "#### Creating a database connection"
   ]
  },
  {
   "cell_type": "code",
   "execution_count": 3,
   "metadata": {},
   "outputs": [],
   "source": [
    "def db_connect():\n",
    "    \"\"\"\n",
    "    Returns sqlalchemy engine instance\n",
    "    \"\"\"\n",
    "    return create_engine(URL(**DATABASE))\n",
    "engine = db_connect()"
   ]
  },
  {
   "cell_type": "markdown",
   "metadata": {},
   "source": [
    "#### Get the list of tables that are present in database"
   ]
  },
  {
   "cell_type": "code",
   "execution_count": 4,
   "metadata": {},
   "outputs": [
    {
     "name": "stdout",
     "output_type": "stream",
     "text": [
      "['users_with_tweets_more_than_20', 'twitter_users', 'tweets_coronavirus']\n"
     ]
    }
   ],
   "source": [
    "print(engine.table_names())"
   ]
  },
  {
   "cell_type": "markdown",
   "metadata": {},
   "source": [
    "### Reading data from twitter_users to a dataframe."
   ]
  },
  {
   "cell_type": "code",
   "execution_count": 5,
   "metadata": {},
   "outputs": [],
   "source": [
    "twitter_users = pd.read_sql_query('select * from twitter_users', con=engine)"
   ]
  },
  {
   "cell_type": "code",
   "execution_count": 6,
   "metadata": {},
   "outputs": [
    {
     "data": {
      "text/html": [
       "<div>\n",
       "<style scoped>\n",
       "    .dataframe tbody tr th:only-of-type {\n",
       "        vertical-align: middle;\n",
       "    }\n",
       "\n",
       "    .dataframe tbody tr th {\n",
       "        vertical-align: top;\n",
       "    }\n",
       "\n",
       "    .dataframe thead th {\n",
       "        text-align: right;\n",
       "    }\n",
       "</style>\n",
       "<table border=\"1\" class=\"dataframe\">\n",
       "  <thead>\n",
       "    <tr style=\"text-align: right;\">\n",
       "      <th></th>\n",
       "      <th>user_id</th>\n",
       "      <th>user_name</th>\n",
       "    </tr>\n",
       "  </thead>\n",
       "  <tbody>\n",
       "    <tr>\n",
       "      <th>0</th>\n",
       "      <td>885516405843533825</td>\n",
       "      <td>bsbigsexy77</td>\n",
       "    </tr>\n",
       "    <tr>\n",
       "      <th>1</th>\n",
       "      <td>3690194362</td>\n",
       "      <td>BioTrendy</td>\n",
       "    </tr>\n",
       "    <tr>\n",
       "      <th>2</th>\n",
       "      <td>827854565605191681</td>\n",
       "      <td>TheresaBravo8</td>\n",
       "    </tr>\n",
       "    <tr>\n",
       "      <th>3</th>\n",
       "      <td>3932603189</td>\n",
       "      <td>tati_vict</td>\n",
       "    </tr>\n",
       "    <tr>\n",
       "      <th>4</th>\n",
       "      <td>1227119032928616448</td>\n",
       "      <td>RaghavN92483800</td>\n",
       "    </tr>\n",
       "    <tr>\n",
       "      <th>5</th>\n",
       "      <td>1089206520531877888</td>\n",
       "      <td>JoseReq13</td>\n",
       "    </tr>\n",
       "    <tr>\n",
       "      <th>6</th>\n",
       "      <td>62628195</td>\n",
       "      <td>politicaltragic</td>\n",
       "    </tr>\n",
       "    <tr>\n",
       "      <th>7</th>\n",
       "      <td>3315442865</td>\n",
       "      <td>Chedahkid</td>\n",
       "    </tr>\n",
       "    <tr>\n",
       "      <th>8</th>\n",
       "      <td>35698331</td>\n",
       "      <td>ShawnFnLucas</td>\n",
       "    </tr>\n",
       "    <tr>\n",
       "      <th>9</th>\n",
       "      <td>1125029594577371138</td>\n",
       "      <td>ChristianneQ</td>\n",
       "    </tr>\n",
       "  </tbody>\n",
       "</table>\n",
       "</div>"
      ],
      "text/plain": [
       "               user_id        user_name\n",
       "0   885516405843533825      bsbigsexy77\n",
       "1           3690194362        BioTrendy\n",
       "2   827854565605191681    TheresaBravo8\n",
       "3           3932603189        tati_vict\n",
       "4  1227119032928616448  RaghavN92483800\n",
       "5  1089206520531877888        JoseReq13\n",
       "6             62628195  politicaltragic\n",
       "7           3315442865        Chedahkid\n",
       "8             35698331     ShawnFnLucas\n",
       "9  1125029594577371138     ChristianneQ"
      ]
     },
     "execution_count": 6,
     "metadata": {},
     "output_type": "execute_result"
    }
   ],
   "source": [
    "twitter_users.head(10)"
   ]
  },
  {
   "cell_type": "markdown",
   "metadata": {},
   "source": [
    "### Reading data from tweets_coronavirus to a dataframe."
   ]
  },
  {
   "cell_type": "code",
   "execution_count": 7,
   "metadata": {},
   "outputs": [],
   "source": [
    "tweets_coronavirus = pd.read_sql_query('select * from tweets_coronavirus', con=engine)"
   ]
  },
  {
   "cell_type": "code",
   "execution_count": 8,
   "metadata": {},
   "outputs": [
    {
     "data": {
      "text/html": [
       "<div>\n",
       "<style scoped>\n",
       "    .dataframe tbody tr th:only-of-type {\n",
       "        vertical-align: middle;\n",
       "    }\n",
       "\n",
       "    .dataframe tbody tr th {\n",
       "        vertical-align: top;\n",
       "    }\n",
       "\n",
       "    .dataframe thead th {\n",
       "        text-align: right;\n",
       "    }\n",
       "</style>\n",
       "<table border=\"1\" class=\"dataframe\">\n",
       "  <thead>\n",
       "    <tr style=\"text-align: right;\">\n",
       "      <th></th>\n",
       "      <th>id</th>\n",
       "      <th>created_at</th>\n",
       "      <th>tweet</th>\n",
       "      <th>user_id</th>\n",
       "      <th>retweetcount</th>\n",
       "    </tr>\n",
       "  </thead>\n",
       "  <tbody>\n",
       "    <tr>\n",
       "      <th>0</th>\n",
       "      <td>1</td>\n",
       "      <td>2020-03-31 20:29:48</td>\n",
       "      <td>RT @RealCandaceO: UPDATE on Italy’s #coronavir...</td>\n",
       "      <td>885516405843533825</td>\n",
       "      <td>0</td>\n",
       "    </tr>\n",
       "    <tr>\n",
       "      <th>1</th>\n",
       "      <td>2</td>\n",
       "      <td>2020-03-31 20:29:48</td>\n",
       "      <td>Funny videos 🔴 Coronavirus (Covid-19) 🔥 BioTre...</td>\n",
       "      <td>3690194362</td>\n",
       "      <td>0</td>\n",
       "    </tr>\n",
       "    <tr>\n",
       "      <th>2</th>\n",
       "      <td>3</td>\n",
       "      <td>2020-03-31 20:29:48</td>\n",
       "      <td>RT @SenWarren: The coronavirus bill didn’t do ...</td>\n",
       "      <td>827854565605191681</td>\n",
       "      <td>0</td>\n",
       "    </tr>\n",
       "    <tr>\n",
       "      <th>3</th>\n",
       "      <td>4</td>\n",
       "      <td>2020-03-31 20:29:48</td>\n",
       "      <td>RT @B52Malmet: Bless the nursing home workers....</td>\n",
       "      <td>3932603189</td>\n",
       "      <td>0</td>\n",
       "    </tr>\n",
       "    <tr>\n",
       "      <th>4</th>\n",
       "      <td>5</td>\n",
       "      <td>2020-03-31 20:29:48</td>\n",
       "      <td>RT @TVMohandasPai: Over 83% trust Modi govt wi...</td>\n",
       "      <td>1227119032928616448</td>\n",
       "      <td>0</td>\n",
       "    </tr>\n",
       "    <tr>\n",
       "      <th>5</th>\n",
       "      <td>6</td>\n",
       "      <td>2020-03-31 20:29:48</td>\n",
       "      <td>RT @davidsirota: It's almost as if it is a set...</td>\n",
       "      <td>1089206520531877888</td>\n",
       "      <td>0</td>\n",
       "    </tr>\n",
       "    <tr>\n",
       "      <th>6</th>\n",
       "      <td>7</td>\n",
       "      <td>2020-03-31 20:29:48</td>\n",
       "      <td>RT @chrismurphys: A dozen jockeys and five or ...</td>\n",
       "      <td>62628195</td>\n",
       "      <td>0</td>\n",
       "    </tr>\n",
       "    <tr>\n",
       "      <th>7</th>\n",
       "      <td>8</td>\n",
       "      <td>2020-03-31 20:29:48</td>\n",
       "      <td>RT @KammyTaughtYou: Y’all gotta stop telling p...</td>\n",
       "      <td>3315442865</td>\n",
       "      <td>0</td>\n",
       "    </tr>\n",
       "    <tr>\n",
       "      <th>8</th>\n",
       "      <td>9</td>\n",
       "      <td>2020-03-31 20:29:48</td>\n",
       "      <td>RT @PoliticsWolf: The U.S. Postal Service warn...</td>\n",
       "      <td>35698331</td>\n",
       "      <td>0</td>\n",
       "    </tr>\n",
       "    <tr>\n",
       "      <th>9</th>\n",
       "      <td>10</td>\n",
       "      <td>2020-03-31 20:29:48</td>\n",
       "      <td>@LtGovTX Hold on...last week it was okay for s...</td>\n",
       "      <td>1125029594577371138</td>\n",
       "      <td>0</td>\n",
       "    </tr>\n",
       "  </tbody>\n",
       "</table>\n",
       "</div>"
      ],
      "text/plain": [
       "   id          created_at                                              tweet  \\\n",
       "0   1 2020-03-31 20:29:48  RT @RealCandaceO: UPDATE on Italy’s #coronavir...   \n",
       "1   2 2020-03-31 20:29:48  Funny videos 🔴 Coronavirus (Covid-19) 🔥 BioTre...   \n",
       "2   3 2020-03-31 20:29:48  RT @SenWarren: The coronavirus bill didn’t do ...   \n",
       "3   4 2020-03-31 20:29:48  RT @B52Malmet: Bless the nursing home workers....   \n",
       "4   5 2020-03-31 20:29:48  RT @TVMohandasPai: Over 83% trust Modi govt wi...   \n",
       "5   6 2020-03-31 20:29:48  RT @davidsirota: It's almost as if it is a set...   \n",
       "6   7 2020-03-31 20:29:48  RT @chrismurphys: A dozen jockeys and five or ...   \n",
       "7   8 2020-03-31 20:29:48  RT @KammyTaughtYou: Y’all gotta stop telling p...   \n",
       "8   9 2020-03-31 20:29:48  RT @PoliticsWolf: The U.S. Postal Service warn...   \n",
       "9  10 2020-03-31 20:29:48  @LtGovTX Hold on...last week it was okay for s...   \n",
       "\n",
       "               user_id  retweetcount  \n",
       "0   885516405843533825             0  \n",
       "1           3690194362             0  \n",
       "2   827854565605191681             0  \n",
       "3           3932603189             0  \n",
       "4  1227119032928616448             0  \n",
       "5  1089206520531877888             0  \n",
       "6             62628195             0  \n",
       "7           3315442865             0  \n",
       "8             35698331             0  \n",
       "9  1125029594577371138             0  "
      ]
     },
     "execution_count": 8,
     "metadata": {},
     "output_type": "execute_result"
    }
   ],
   "source": [
    "tweets_coronavirus.head(10)"
   ]
  },
  {
   "cell_type": "markdown",
   "metadata": {},
   "source": [
    "### Reading data for all users where they have more than 20 tweets to a dataframe."
   ]
  },
  {
   "cell_type": "code",
   "execution_count": 9,
   "metadata": {},
   "outputs": [],
   "source": [
    "users_with_tweets_more_than_20 = pd.read_sql_query('select * from tweets_coronavirus a, twitter_users b \\\n",
    "where a.user_id = b.user_id and a.user_id in (select user_id from ( \\\n",
    "select user_id , count(*) counted from tweets_coronavirus \\\n",
    "group by user_id \\\n",
    "having count(*) > 20) as a)', con=engine)"
   ]
  },
  {
   "cell_type": "code",
   "execution_count": 10,
   "metadata": {},
   "outputs": [
    {
     "data": {
      "text/html": [
       "<div>\n",
       "<style scoped>\n",
       "    .dataframe tbody tr th:only-of-type {\n",
       "        vertical-align: middle;\n",
       "    }\n",
       "\n",
       "    .dataframe tbody tr th {\n",
       "        vertical-align: top;\n",
       "    }\n",
       "\n",
       "    .dataframe thead th {\n",
       "        text-align: right;\n",
       "    }\n",
       "</style>\n",
       "<table border=\"1\" class=\"dataframe\">\n",
       "  <thead>\n",
       "    <tr style=\"text-align: right;\">\n",
       "      <th></th>\n",
       "      <th>id</th>\n",
       "      <th>created_at</th>\n",
       "      <th>tweet</th>\n",
       "      <th>user_id</th>\n",
       "      <th>retweetcount</th>\n",
       "      <th>user_id</th>\n",
       "      <th>user_name</th>\n",
       "    </tr>\n",
       "  </thead>\n",
       "  <tbody>\n",
       "    <tr>\n",
       "      <th>0</th>\n",
       "      <td>135</td>\n",
       "      <td>2020-03-31 20:29:50</td>\n",
       "      <td>@GrimKim @thebafflermag Also need this#Protect...</td>\n",
       "      <td>1236581105748361216</td>\n",
       "      <td>0</td>\n",
       "      <td>1236581105748361216</td>\n",
       "      <td>dupont16141315</td>\n",
       "    </tr>\n",
       "    <tr>\n",
       "      <th>1</th>\n",
       "      <td>435</td>\n",
       "      <td>2020-03-31 20:29:57</td>\n",
       "      <td>RT @KatyTurNBC: He’s worked 18 shifts in the l...</td>\n",
       "      <td>1238467680773894146</td>\n",
       "      <td>0</td>\n",
       "      <td>1238467680773894146</td>\n",
       "      <td>CoronaUpdateBot</td>\n",
       "    </tr>\n",
       "    <tr>\n",
       "      <th>2</th>\n",
       "      <td>800</td>\n",
       "      <td>2020-03-31 20:30:04</td>\n",
       "      <td>Social distancing helps slow California corona...</td>\n",
       "      <td>1025186618108530689</td>\n",
       "      <td>0</td>\n",
       "      <td>1025186618108530689</td>\n",
       "      <td>voiceofthehwy</td>\n",
       "    </tr>\n",
       "    <tr>\n",
       "      <th>3</th>\n",
       "      <td>818</td>\n",
       "      <td>2020-03-31 20:30:04</td>\n",
       "      <td>Coronavirus in Georgia: Confirmed cases contin...</td>\n",
       "      <td>1025186618108530689</td>\n",
       "      <td>0</td>\n",
       "      <td>1025186618108530689</td>\n",
       "      <td>voiceofthehwy</td>\n",
       "    </tr>\n",
       "    <tr>\n",
       "      <th>4</th>\n",
       "      <td>855</td>\n",
       "      <td>2020-03-31 20:30:05</td>\n",
       "      <td>Ice-rink to be turned into emergency mortuary ...</td>\n",
       "      <td>1179387847310266370</td>\n",
       "      <td>0</td>\n",
       "      <td>1179387847310266370</td>\n",
       "      <td>newworldsurvive</td>\n",
       "    </tr>\n",
       "    <tr>\n",
       "      <th>5</th>\n",
       "      <td>911</td>\n",
       "      <td>2020-03-31 20:30:06</td>\n",
       "      <td>@chicagosmayor EVERY AMERICAN QUALIFIES REGARD...</td>\n",
       "      <td>490949027</td>\n",
       "      <td>0</td>\n",
       "      <td>490949027</td>\n",
       "      <td>JONIMITCHELL4</td>\n",
       "    </tr>\n",
       "    <tr>\n",
       "      <th>6</th>\n",
       "      <td>984</td>\n",
       "      <td>2020-03-31 20:30:08</td>\n",
       "      <td>'Healthy' boy, 13, is youngest UK coronavirus ...</td>\n",
       "      <td>1179387847310266370</td>\n",
       "      <td>0</td>\n",
       "      <td>1179387847310266370</td>\n",
       "      <td>newworldsurvive</td>\n",
       "    </tr>\n",
       "    <tr>\n",
       "      <th>7</th>\n",
       "      <td>1094</td>\n",
       "      <td>2020-03-31 20:30:10</td>\n",
       "      <td>RT @GOP: Jan. 15, 2020: On the day the CDC rep...</td>\n",
       "      <td>1238467680773894146</td>\n",
       "      <td>0</td>\n",
       "      <td>1238467680773894146</td>\n",
       "      <td>CoronaUpdateBot</td>\n",
       "    </tr>\n",
       "    <tr>\n",
       "      <th>8</th>\n",
       "      <td>1186</td>\n",
       "      <td>2020-03-31 20:30:12</td>\n",
       "      <td>RT @newworldsurvive: 'It doesn't matter what a...</td>\n",
       "      <td>1229091405152256001</td>\n",
       "      <td>0</td>\n",
       "      <td>1229091405152256001</td>\n",
       "      <td>BotRedian</td>\n",
       "    </tr>\n",
       "    <tr>\n",
       "      <th>9</th>\n",
       "      <td>1266</td>\n",
       "      <td>2020-03-31 20:30:13</td>\n",
       "      <td>RT @glennkirschner2: I, for one, can’t wait to...</td>\n",
       "      <td>1078741623197048832</td>\n",
       "      <td>0</td>\n",
       "      <td>1078741623197048832</td>\n",
       "      <td>Leeblev50045868</td>\n",
       "    </tr>\n",
       "  </tbody>\n",
       "</table>\n",
       "</div>"
      ],
      "text/plain": [
       "     id          created_at  \\\n",
       "0   135 2020-03-31 20:29:50   \n",
       "1   435 2020-03-31 20:29:57   \n",
       "2   800 2020-03-31 20:30:04   \n",
       "3   818 2020-03-31 20:30:04   \n",
       "4   855 2020-03-31 20:30:05   \n",
       "5   911 2020-03-31 20:30:06   \n",
       "6   984 2020-03-31 20:30:08   \n",
       "7  1094 2020-03-31 20:30:10   \n",
       "8  1186 2020-03-31 20:30:12   \n",
       "9  1266 2020-03-31 20:30:13   \n",
       "\n",
       "                                               tweet              user_id  \\\n",
       "0  @GrimKim @thebafflermag Also need this#Protect...  1236581105748361216   \n",
       "1  RT @KatyTurNBC: He’s worked 18 shifts in the l...  1238467680773894146   \n",
       "2  Social distancing helps slow California corona...  1025186618108530689   \n",
       "3  Coronavirus in Georgia: Confirmed cases contin...  1025186618108530689   \n",
       "4  Ice-rink to be turned into emergency mortuary ...  1179387847310266370   \n",
       "5  @chicagosmayor EVERY AMERICAN QUALIFIES REGARD...            490949027   \n",
       "6  'Healthy' boy, 13, is youngest UK coronavirus ...  1179387847310266370   \n",
       "7  RT @GOP: Jan. 15, 2020: On the day the CDC rep...  1238467680773894146   \n",
       "8  RT @newworldsurvive: 'It doesn't matter what a...  1229091405152256001   \n",
       "9  RT @glennkirschner2: I, for one, can’t wait to...  1078741623197048832   \n",
       "\n",
       "   retweetcount              user_id        user_name  \n",
       "0             0  1236581105748361216   dupont16141315  \n",
       "1             0  1238467680773894146  CoronaUpdateBot  \n",
       "2             0  1025186618108530689    voiceofthehwy  \n",
       "3             0  1025186618108530689    voiceofthehwy  \n",
       "4             0  1179387847310266370  newworldsurvive  \n",
       "5             0            490949027    JONIMITCHELL4  \n",
       "6             0  1179387847310266370  newworldsurvive  \n",
       "7             0  1238467680773894146  CoronaUpdateBot  \n",
       "8             0  1229091405152256001        BotRedian  \n",
       "9             0  1078741623197048832  Leeblev50045868  "
      ]
     },
     "execution_count": 10,
     "metadata": {},
     "output_type": "execute_result"
    }
   ],
   "source": [
    "users_with_tweets_more_than_20.head(10)"
   ]
  },
  {
   "cell_type": "markdown",
   "metadata": {},
   "source": [
    "### Creating a new table with this dataframe and write this data into a table."
   ]
  },
  {
   "cell_type": "code",
   "execution_count": 11,
   "metadata": {},
   "outputs": [],
   "source": [
    "table_name = 'users_with_tweets_more_than_20'\n",
    "users_with_tweets_more_than_20.to_sql(table_name, con=engine,  if_exists='replace')"
   ]
  },
  {
   "cell_type": "markdown",
   "metadata": {},
   "source": [
    "#### checking the tables to make sure the newly created table is present."
   ]
  },
  {
   "cell_type": "code",
   "execution_count": 12,
   "metadata": {},
   "outputs": [
    {
     "name": "stdout",
     "output_type": "stream",
     "text": [
      "['users_with_tweets_more_than_20', 'twitter_users', 'tweets_coronavirus']\n"
     ]
    }
   ],
   "source": [
    "print(engine.table_names())"
   ]
  },
  {
   "cell_type": "markdown",
   "metadata": {},
   "source": [
    "#### There are many attributes in a tweet which are not added, you can experiment with adding geolocation and many more interesting attributes to analyze data.\n",
    "\n",
    "### Happy Coding"
   ]
  },
  {
   "cell_type": "code",
   "execution_count": null,
   "metadata": {},
   "outputs": [],
   "source": []
  }
 ],
 "metadata": {
  "kernelspec": {
   "display_name": "Python 3",
   "language": "python",
   "name": "python3"
  },
  "language_info": {
   "codemirror_mode": {
    "name": "ipython",
    "version": 3
   },
   "file_extension": ".py",
   "mimetype": "text/x-python",
   "name": "python",
   "nbconvert_exporter": "python",
   "pygments_lexer": "ipython3",
   "version": "3.7.4"
  }
 },
 "nbformat": 4,
 "nbformat_minor": 4
}
