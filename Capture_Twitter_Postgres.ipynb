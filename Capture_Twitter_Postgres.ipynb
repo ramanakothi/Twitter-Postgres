{
 "cells": [
  {
   "cell_type": "markdown",
   "metadata": {},
   "source": [
    "## Capture Tweets from Twitter and save it to PostgreSQL database."
   ]
  },
  {
   "cell_type": "markdown",
   "metadata": {},
   "source": [
    "Objective is to capture the tweets from Twitter for a specific keyword to analyze the trend. we can convert this to a simple python script and run it in the background.\n",
    "\n",
    "This information can be used to find different kinds of patterns like number of tweets, retweets, followers and text mining on actual tweet."
   ]
  },
  {
   "cell_type": "markdown",
   "metadata": {},
   "source": [
    "## Prerequisites\n",
    "\n",
    "#### install postgresql \n",
    "( reference - https://ramanakothi.com/1262/)\n",
    "Create database twitter from command line\n",
    "1. createdb twitter \n",
    "2. initdb -D twitter\n",
    "3. pg_ctl -D twitter -l logfile start\n",
    "\n",
    "#### Create user twitter from command line execute  - psql twitter\n",
    "1. create user twitter with password 'twitter'; \n",
    "2. alter role twitter CREATEROLE CREATEDB;)\n",
    "\n",
    "#### setup twitter account and get API Key\n",
    "\n",
    "To start with, you will need to have a Twitter developer account and obtain credentials (i.e. API key, API secret, Access token and Access token secret) on the to access the Twitter API, following these steps:\n",
    "\n",
    "Create a Twitter developer account if you do not already have one from : https://developer.twitter.com/\n",
    "Go to https://developer.twitter.com/en/apps and log in with your Twitter user account.\n",
    "Click “Create an app”\n",
    "Fill out the form, and click “Create”\n",
    "A pop up window will appear for reviewing Developer Terms. Click the “Create” button again.\n",
    "In the next page, click on “Keys and Access Tokens” tab, and copy your “API key” and “API secret” from the Consumer API keys section.\n",
    "Scroll down to Access token & access token secret section and click “Create”. Then copy your “Access token” and “Access token secret”"
   ]
  },
  {
   "cell_type": "markdown",
   "metadata": {},
   "source": [
    "### Install required python modules"
   ]
  },
  {
   "cell_type": "code",
   "execution_count": null,
   "metadata": {},
   "outputs": [],
   "source": [
    "!pip install tweepy, psycopg2, sqlalchemy"
   ]
  },
  {
   "cell_type": "code",
   "execution_count": 2,
   "metadata": {},
   "outputs": [],
   "source": [
    "import psycopg2\n",
    "import tweepy \n",
    "import json"
   ]
  },
  {
   "cell_type": "markdown",
   "metadata": {},
   "source": [
    "#### Create keys.py file, needs to enter values in below block for Twitter API and execute it."
   ]
  },
  {
   "cell_type": "code",
   "execution_count": null,
   "metadata": {},
   "outputs": [],
   "source": [
    "%%writefile keys.py\n",
    "## create a file keys.py in the working directory and add below attrributes\n",
    "#### Variables that contains the user credentials from Twitter API (setup twitter account and get API Key).\n",
    "access_token = \"ENTER ACCESS TOKEN\"\n",
    "access_token_secret = \"ENTER ACCESS TOKEN SECRET\"\n",
    "consumer_key = \"ENTER CONSUMER KEY\"\n",
    "consumer_secret = \"ENTER CONSUMER SECRET\"\n",
    "\n",
    "#### Postgres Credentials\n",
    "\n",
    "dbname='twitter'\n",
    "user ='twitter'\n",
    "password='twitter'\n",
    "host='localhost'\n",
    "port=5432"
   ]
  },
  {
   "cell_type": "code",
   "execution_count": 11,
   "metadata": {},
   "outputs": [],
   "source": [
    "## importing data from the keys files which contains twitter and db parameters.\n",
    "from keys import *"
   ]
  },
  {
   "cell_type": "markdown",
   "metadata": {},
   "source": [
    " #### This function gets the consumer key, consumer secret key, access token and access token secret given by the app created in your Twitter account and authenticate them with Tweepy."
   ]
  },
  {
   "cell_type": "code",
   "execution_count": 4,
   "metadata": {},
   "outputs": [],
   "source": [
    "def autorize_twitter_api():\n",
    "    auth = tweepy.OAuthHandler(consumer_key, consumer_secret)\n",
    "    auth.set_access_token(access_token, access_token_secret)\n",
    "    return auth"
   ]
  },
  {
   "cell_type": "markdown",
   "metadata": {},
   "source": [
    "#### This function open a connection with an already created database and creates a new table to store tweets related to a subject specified by the user\n"
   ]
  },
  {
   "cell_type": "code",
   "execution_count": 12,
   "metadata": {},
   "outputs": [],
   "source": [
    "def create_tweets_table(term_to_search):\n",
    "    #Connect to Twitter Database created in Postgres\n",
    "    conn_twitter = psycopg2.connect(dbname=dbname, user=user, password=password, host=host, port=port)\n",
    "\n",
    "    #Create a cursor to perform database operations\n",
    "    cursor_twitter = conn_twitter.cursor()\n",
    "\n",
    "    #with the cursor now, create two tables, users twitter and the corresponding table according to the selected topic\n",
    "    cursor_twitter.execute(\"CREATE TABLE IF NOT EXISTS twitter_users (user_id VARCHAR PRIMARY KEY, user_name VARCHAR);\")\n",
    "    \n",
    "    query_create = \"CREATE TABLE IF NOT EXISTS %s (id SERIAL, created_at timestamp, tweet text NOT NULL, user_id VARCHAR, \\\n",
    "                    retweetcount int, PRIMARY KEY(id), FOREIGN KEY(user_id) REFERENCES twitter_users(user_id));\" %(\"tweets_\"+term_to_search)\n",
    "    \n",
    "    cursor_twitter.execute(query_create)\n",
    "    \n",
    "    #Commit changes\n",
    "    conn_twitter.commit()\n",
    "    \n",
    "    #Close cursor and the connection\n",
    "    cursor_twitter.close()\n",
    "    conn_twitter.close()\n",
    "    return"
   ]
  },
  {
   "cell_type": "markdown",
   "metadata": {},
   "source": [
    "#### This function open a connection with an already created database and inserts into corresponding table tweets related to the selected topic"
   ]
  },
  {
   "cell_type": "code",
   "execution_count": 6,
   "metadata": {},
   "outputs": [],
   "source": [
    "def store_tweets_in_table(term_to_search, user_id, created_at, tweet, user_name, retweetcount):\n",
    "    #Connect to Twitter Database created in Postgres\n",
    "    conn_twitter = psycopg2.connect(dbname=dbname, user=user, password=password, host=host, port=port)\n",
    "    \n",
    "    #Create a cursor to perform database operations\n",
    "    cursor_twitter = conn_twitter.cursor()\n",
    "\n",
    "    #with the cursor now, insert tweet into table\n",
    "    cursor_twitter.execute(\"INSERT INTO twitter_users (user_id, user_name) VALUES (%s, %s) ON CONFLICT(user_id) DO NOTHING;\", (user_id, user_name))\n",
    "    \n",
    "    cursor_twitter.execute(\"INSERT INTO %s (created_at, tweet, user_id, retweetcount) VALUES (%%s, %%s, %%s, %%s);\" %('tweets_'+term_to_search), \n",
    "                           (created_at, tweet, user_id, retweetcount))\n",
    "    \n",
    "    #Commit changes\n",
    "    conn_twitter.commit()\n",
    "    \n",
    "    #Close cursor and the connection\n",
    "    cursor_twitter.close()\n",
    "    conn_twitter.close()\n",
    "    return"
   ]
  },
  {
   "cell_type": "markdown",
   "metadata": {},
   "source": [
    "#### This is the class that streams data and writes to table. It can be updated to handle exceptions."
   ]
  },
  {
   "cell_type": "code",
   "execution_count": 7,
   "metadata": {},
   "outputs": [],
   "source": [
    "class MyStreamListener(tweepy.StreamListener):\n",
    "    def on_data(self, raw_data):\n",
    "\n",
    "        try:\n",
    "            global term_to_search\n",
    "            \n",
    "            data = json.loads(raw_data)            \n",
    "            \n",
    "            #Obtain all the variables to store in each column\n",
    "            user_id = data['user']['id_str']\n",
    "            created_at = data['created_at']\n",
    "            tweet = data['text']\n",
    "            user_name = data['user']['screen_name']\n",
    "            retweetcount = data['retweet_count']\n",
    "            \n",
    "            #Store them in the corresponding table in the database\n",
    "            store_tweets_in_table(term_to_search, user_id, created_at, tweet, user_name, retweetcount)\n",
    "            \n",
    "        except Exception as e:\n",
    "            #e = sys.exc_info()[1]\n",
    "            #print(e.args[0])\n",
    "            pass\n",
    "    \n",
    "    def on_error(self, status_code):\n",
    "        if status_code == 420:\n",
    "            #returning False in on_error disconnects the stream\n",
    "            return False"
   ]
  },
  {
   "cell_type": "markdown",
   "metadata": {},
   "source": [
    "#### You can use any search term, I have used Coronavirus to know tweet patterns."
   ]
  },
  {
   "cell_type": "code",
   "execution_count": null,
   "metadata": {},
   "outputs": [],
   "source": [
    "if __name__ == \"__main__\": \n",
    "    #Creates the table for storing the tweets\n",
    "    term_to_search = \"coronavirus\"\n",
    "    create_tweets_table(term_to_search)\n",
    "    \n",
    "    #Connect to the streaming twitter API\n",
    "    api = tweepy.API(wait_on_rate_limit_notify=True)\n",
    "    \n",
    "    #Stream the tweets\n",
    "    streamer = tweepy.Stream(auth=autorize_twitter_api(), listener=MyStreamListener(api=api))\n",
    "    streamer.filter(languages=[\"en\"], track=[term_to_search])"
   ]
  },
  {
   "cell_type": "markdown",
   "metadata": {},
   "source": [
    "#### you can copy this code into a py script and run it in the background."
   ]
  },
  {
   "cell_type": "code",
   "execution_count": 14,
   "metadata": {},
   "outputs": [
    {
     "name": "stdout",
     "output_type": "stream",
     "text": [
      "Writing Twit_Postgres.py\n"
     ]
    }
   ],
   "source": [
    "%%writefile Twit_Postgres.py\n",
    "#!/usr/bin/env python\n",
    "\n",
    "import psycopg2\n",
    "import tweepy \n",
    "import json\n",
    "from keys import *\n",
    "\n",
    "\n",
    "\n",
    "def autorize_twitter_api():\n",
    "    auth = tweepy.OAuthHandler(consumer_key, consumer_secret)\n",
    "    auth.set_access_token(access_token, access_token_secret)\n",
    "    return auth\n",
    "\n",
    "\n",
    "\n",
    "def create_tweets_table(term_to_search):\n",
    "    #Connect to Twitter Database created in Postgres\n",
    "    conn_twitter = psycopg2.connect(dbname=dbname, user=user, password=password, host=host, port=port)\n",
    "\n",
    "    #Create a cursor to perform database operations\n",
    "    cursor_twitter = conn_twitter.cursor()\n",
    "\n",
    "    #with the cursor now, create two tables, users twitter and the corresponding table according to the selected topic\n",
    "    cursor_twitter.execute(\"CREATE TABLE IF NOT EXISTS twitter_users (user_id VARCHAR PRIMARY KEY, user_name VARCHAR);\")\n",
    "    \n",
    "    query_create = \"CREATE TABLE IF NOT EXISTS %s (id SERIAL, created_at timestamp, tweet text NOT NULL, user_id VARCHAR,                     retweetcount int, PRIMARY KEY(id), FOREIGN KEY(user_id) REFERENCES twitter_users(user_id));\" %(\"tweets_\"+term_to_search)\n",
    "    \n",
    "    cursor_twitter.execute(query_create)\n",
    "    \n",
    "    #Commit changes\n",
    "    conn_twitter.commit()\n",
    "    \n",
    "    #Close cursor and the connection\n",
    "    cursor_twitter.close()\n",
    "    conn_twitter.close()\n",
    "    return\n",
    "\n",
    "def store_tweets_in_table(term_to_search, user_id, created_at, tweet, user_name, retweetcount):\n",
    "    #Connect to Twitter Database created in Postgres\n",
    "    conn_twitter = psycopg2.connect(dbname=dbname, user=user, password=password, host=host, port=port)\n",
    "    \n",
    "    #Create a cursor to perform database operations\n",
    "    cursor_twitter = conn_twitter.cursor()\n",
    "\n",
    "    #with the cursor now, insert tweet into table\n",
    "    cursor_twitter.execute(\"INSERT INTO twitter_users (user_id, user_name) VALUES (%s, %s) ON CONFLICT(user_id) DO NOTHING;\", (user_id, user_name))\n",
    "    \n",
    "    cursor_twitter.execute(\"INSERT INTO %s (created_at, tweet, user_id, retweetcount) VALUES (%%s, %%s, %%s, %%s);\" %('tweets_'+term_to_search), \n",
    "                           (created_at, tweet, user_id, retweetcount))\n",
    "    \n",
    "    #Commit changes\n",
    "    conn_twitter.commit()\n",
    "    \n",
    "    #Close cursor and the connection\n",
    "    cursor_twitter.close()\n",
    "    conn_twitter.close()\n",
    "    return\n",
    "\n",
    "class MyStreamListener(tweepy.StreamListener):\n",
    "    def on_data(self, raw_data):\n",
    "\n",
    "        try:\n",
    "            global term_to_search\n",
    "            \n",
    "            data = json.loads(raw_data)            \n",
    "            \n",
    "            #Obtain all the variables to store in each column\n",
    "            user_id = data['user']['id_str']\n",
    "            created_at = data['created_at']\n",
    "            tweet = data['text']\n",
    "            user_name = data['user']['screen_name']\n",
    "            retweetcount = data['retweet_count']\n",
    "            \n",
    "            #Store them in the corresponding table in the database\n",
    "            store_tweets_in_table(term_to_search, user_id, created_at, tweet, user_name, retweetcount)\n",
    "            \n",
    "        except Exception as e:\n",
    "            #e = sys.exc_info()[1]\n",
    "            #print(e.args[0])\n",
    "            pass\n",
    "    \n",
    "    def on_error(self, status_code):\n",
    "        if status_code == 420:\n",
    "            #returning False in on_error disconnects the stream\n",
    "            return False\n",
    "\n",
    "\n",
    "if __name__ == \"__main__\": \n",
    "    #Creates the table for storing the tweets\n",
    "    term_to_search = \"coronavirus\"\n",
    "    create_tweets_table(term_to_search)\n",
    "    \n",
    "    #Connect to the streaming twitter API\n",
    "    api = tweepy.API(wait_on_rate_limit_notify=True)\n",
    "    \n",
    "    #Stream the tweets\n",
    "    streamer = tweepy.Stream(auth=autorize_twitter_api(), listener=MyStreamListener(api=api))\n",
    "    streamer.filter(languages=[\"en\"], track=[term_to_search])"
   ]
  },
  {
   "cell_type": "code",
   "execution_count": null,
   "metadata": {},
   "outputs": [],
   "source": []
  }
 ],
 "metadata": {
  "kernelspec": {
   "display_name": "Python 3",
   "language": "python",
   "name": "python3"
  },
  "language_info": {
   "codemirror_mode": {
    "name": "ipython",
    "version": 3
   },
   "file_extension": ".py",
   "mimetype": "text/x-python",
   "name": "python",
   "nbconvert_exporter": "python",
   "pygments_lexer": "ipython3",
   "version": "3.7.4"
  }
 },
 "nbformat": 4,
 "nbformat_minor": 4
}
